{
 "cells": [
  {
   "cell_type": "code",
   "execution_count": null,
   "id": "cc71a592",
   "metadata": {},
   "outputs": [],
   "source": [
    "#參考範例：Pental Wang，Python如何使用Cookie模擬登入和下載影片(以eyny為例)\n",
    "#參考網址：https://medium.com/fengstyle-app/python%E5%A6%82%E4%BD%95%E4%BD%BF%E7%94%A8cookie%E6%A8%A1%E6%93%AC%E7%99%BB%E5%85%A5%E5%92%8C%E4%B8%8B%E8%BC%89%E5%BD%B1%E7%89%87-%E4%BB%A5eyny%E7%82%BA%E4%BE%8B-8f5a865e5240"
   ]
  },
  {
   "cell_type": "code",
   "execution_count": 5,
   "id": "6b0afd05",
   "metadata": {
    "scrolled": true
   },
   "outputs": [
    {
     "name": "stdout",
     "output_type": "stream",
     "text": [
      "Requirement already satisfied: requests_html in c:\\users\\a2246\\anaconda3\\lib\\site-packages (0.10.0)\n",
      "Requirement already satisfied: w3lib in c:\\users\\a2246\\anaconda3\\lib\\site-packages (from requests_html) (1.22.0)\n",
      "Requirement already satisfied: pyppeteer>=0.0.14 in c:\\users\\a2246\\anaconda3\\lib\\site-packages (from requests_html) (0.2.6)\n",
      "Requirement already satisfied: requests in c:\\users\\a2246\\anaconda3\\lib\\site-packages (from requests_html) (2.25.1)\n",
      "Requirement already satisfied: parse in c:\\users\\a2246\\anaconda3\\lib\\site-packages (from requests_html) (1.19.0)\n",
      "Requirement already satisfied: pyquery in c:\\users\\a2246\\anaconda3\\lib\\site-packages (from requests_html) (1.4.3)\n",
      "Requirement already satisfied: bs4 in c:\\users\\a2246\\anaconda3\\lib\\site-packages (from requests_html) (0.0.1)\n",
      "Requirement already satisfied: fake-useragent in c:\\users\\a2246\\anaconda3\\lib\\site-packages (from requests_html) (0.1.11)\n",
      "Requirement already satisfied: appdirs<2.0.0,>=1.4.3 in c:\\users\\a2246\\anaconda3\\lib\\site-packages (from pyppeteer>=0.0.14->requests_html) (1.4.4)\n",
      "Requirement already satisfied: importlib-metadata>=1.4 in c:\\users\\a2246\\anaconda3\\lib\\site-packages (from pyppeteer>=0.0.14->requests_html) (3.10.0)\n",
      "Requirement already satisfied: pyee<9.0.0,>=8.1.0 in c:\\users\\a2246\\anaconda3\\lib\\site-packages (from pyppeteer>=0.0.14->requests_html) (8.2.2)\n",
      "Requirement already satisfied: tqdm<5.0.0,>=4.42.1 in c:\\users\\a2246\\anaconda3\\lib\\site-packages (from pyppeteer>=0.0.14->requests_html) (4.59.0)\n",
      "Requirement already satisfied: urllib3<2.0.0,>=1.25.8 in c:\\users\\a2246\\anaconda3\\lib\\site-packages (from pyppeteer>=0.0.14->requests_html) (1.26.4)\n",
      "Requirement already satisfied: websockets<10.0,>=9.1 in c:\\users\\a2246\\anaconda3\\lib\\site-packages (from pyppeteer>=0.0.14->requests_html) (9.1)\n",
      "Requirement already satisfied: zipp>=0.5 in c:\\users\\a2246\\anaconda3\\lib\\site-packages (from importlib-metadata>=1.4->pyppeteer>=0.0.14->requests_html) (3.4.1)\n",
      "Requirement already satisfied: beautifulsoup4 in c:\\users\\a2246\\anaconda3\\lib\\site-packages (from bs4->requests_html) (4.9.3)\n",
      "Requirement already satisfied: soupsieve>1.2 in c:\\users\\a2246\\anaconda3\\lib\\site-packages (from beautifulsoup4->bs4->requests_html) (2.2.1)\n",
      "Requirement already satisfied: lxml>=2.1 in c:\\users\\a2246\\anaconda3\\lib\\site-packages (from pyquery->requests_html) (4.6.3)\n",
      "Requirement already satisfied: cssselect>0.7.9 in c:\\users\\a2246\\anaconda3\\lib\\site-packages (from pyquery->requests_html) (1.1.0)\n",
      "Requirement already satisfied: idna<3,>=2.5 in c:\\users\\a2246\\anaconda3\\lib\\site-packages (from requests->requests_html) (2.10)\n",
      "Requirement already satisfied: chardet<5,>=3.0.2 in c:\\users\\a2246\\anaconda3\\lib\\site-packages (from requests->requests_html) (4.0.0)\n",
      "Requirement already satisfied: certifi>=2017.4.17 in c:\\users\\a2246\\anaconda3\\lib\\site-packages (from requests->requests_html) (2020.12.5)\n",
      "Requirement already satisfied: six>=1.4.1 in c:\\users\\a2246\\anaconda3\\lib\\site-packages (from w3lib->requests_html) (1.15.0)\n",
      "Note: you may need to restart the kernel to use updated packages.\n"
     ]
    }
   ],
   "source": [
    "pip install requests_html"
   ]
  },
  {
   "cell_type": "code",
   "execution_count": 6,
   "id": "d9628b4b",
   "metadata": {},
   "outputs": [],
   "source": [
    "import urllib.request\n",
    "import requests\n",
    "from requests.cookies import RequestsCookieJar\n",
    "from requests_html import HTML"
   ]
  },
  {
   "cell_type": "code",
   "execution_count": 9,
   "id": "4bff4a0c",
   "metadata": {},
   "outputs": [],
   "source": [
    "cookie_jar = RequestsCookieJar()\n",
    "cookie_jar.set('vpadn-ctid','5babf9c4-2c68-bc7b-3cec-ab3c4717a1ac',domain='.doubleclick.net')\n",
    "cookie_jar.set('uid','38880477.1626758',domain='.dable.io')\n",
    "cookie_jar.set('sb','PSD4YMQeP4N9nsHoKeOvdRCr',domain='.facebook.com')\n",
    "cookie_jar.set('fr','1leeYKDEcLScu7DDy..Bg-CA9.8L.AAA.0.0.Bg-CA9.AWUi2i9IEz0',domain='.facebook.com')\n",
    "cookie_jar.set('datr','PSD4YLftHgk2thynLnmxNu8T',domain='.facebook.com')\n",
    "cookie_jar.set('dable_uid','38880477.1626758',domain='.www.tibame.com')\n",
    "cookie_jar.set('cto_bundle','3hFsG19iUFJDeUtKenhqJTJCbSUyQmV5VG43YVNvckFKd3pkSnM1aldpaXg4ZXlCejdVZG5pcDdnSGNXT25iUFdaJTJGQjh5bzRHUmtrM0lGOW5uNHNQQnFVMmNsNU1JSlFjbFZaejhCSENhSGU4STNuUnJBMnA0WG5FMmZ4ZTNUT3l1VCUyRlphczZoS2NWR1ZaTnhMbmVFbUMlMkJCQXJpNlRRJTNEJTNE',domain='.doubleclick.net')\n",
    "cookie_jar.set('_skp','1',domain='.dable.io')\n",
    "cookie_jar.set('_gid','GA1.2.1983018177.1632491241',domain='.tibame.com')\n",
    "cookie_jar.set('_gg_ck_match','1',domain='.dable.io')\n",
    "cookie_jar.set('_gcl_au','1.1.1355801116.1632491234',domain='.tibame.com')\n",
    "cookie_jar.set('_gat_%5Bobject%20Object%5D','1',domain='.tibame.com')\n",
    "cookie_jar.set('_ga_NM1GEER1Y6','GS1.1.1632573056.3.0.1632573058.58',domain='.tibame.com')\n",
    "cookie_jar.set('_ga','GA1.2.1595864809.1632491234',domain='.tibame.com')\n",
    "cookie_jar.set('_fbp','fb.1.1632491234782.1810566052',domain='.tibame.com')\n",
    "cookie_jar.set('_dc_gtm_UA-53361606-2','1',domain='.tibame.com')\n",
    "cookie_jar.set('_atrk_siteuid','WTtxOnm9V4GdnuzG',domain='.doubleclick.net')\n",
    "cookie_jar.set('__dbl__pv','12',domain='.www.tibame.com')\n",
    "cookie_jar.set('__Secure-3PSIDCC','AJi4QfFZzb1e5wZjJZ4QI81StG0bsT2zAXHNOzC3hsXfaBFXIy4ZG9PMVBrFs8fMEsA4pFSqbg',domain='.google.com')\n",
    "cookie_jar.set('__Secure-3PSID','BQjbDqTd38b1zXTj_Eok_w_lM8sNgrJ3fqJ4duWLAiEvdvNOyxjHxHAL998-pZlZez5RwQ.',domain='.google.com.tw')\n",
    "cookie_jar.set('__Secure-3PSID','BQjbDlURCcluhoJBbjh2XRDRrlRrnO7TnPDkah5bIkHCfPSYXaRCX-UEOI83M8iFySe13A.',domain='.google.com')\n",
    "cookie_jar.set('__Secure-3PAPISID','IdEEzQUt-VKn9pFj/ADqHKsN4j-Vhc45Sm',domain='.google.com.tw')\n",
    "cookie_jar.set('__Secure-3PAPISID','IdEEzQUt-VKn9pFj/ADqHKsN4j-Vhc45Sm',domain='.google.com')\n",
    "cookie_jar.set('__Secure-1PSID','BQjbDlURCcluhoJBbjh2XRDRrlRrnO7TnPDkah5bIkHCfPSYbDasdVwrGMqsPbHoKEGLCA.',domain='.google.com')\n",
    "cookie_jar.set('__Secure-1PSID','BQjbDqTd38b1zXTj_Eok_w_lM8sNgrJ3fqJ4duWLAiEvdvNOPCdPJYV4Zx2sIulJlFwTVA.',domain='.google.com.tw')\n",
    "cookie_jar.set('__Secure-1PAPISID','IdEEzQUt-VKn9pFj/ADqHKsN4j-Vhc45Sm',domain='.google.com.tw')\n",
    "cookie_jar.set('__Secure-1PAPISID','IdEEzQUt-VKn9pFj/ADqHKsN4j-Vhc45Sm',domain='.google.com')\n",
    "cookie_jar.set('SSID','A09VO82hMRrwShNXN',domain='.google.com.tw')\n",
    "cookie_jar.set('SSID','AdH-8RZFCUTVfhAOo',domain='.google.com')\n",
    "cookie_jar.set('SIDCC','AJi4QfGbu4GtpJ1KkhHY2BeHsmUsqYEzwMaAoj74_wrzfx7-fCFJ9oG7XsMpFZf5Tl2PfOJ0jyA',domain='.google.com')\n",
    "cookie_jar.set('SID','BQjbDlURCcluhoJBbjh2XRDRrlRrnO7TnPDkah5bIkHCfPSY1LPA9Jl-DgXc6YTcDv-kiw.',domain='.google.com')\n",
    "cookie_jar.set('SID','BQjbDqTd38b1zXTj_Eok_w_lM8sNgrJ3fqJ4duWLAiEvdvNOeb4iOfoyrc7aLUeqGy2pXw.',domain='.google.com.tw')\n",
    "cookie_jar.set('SAPISID','IdEEzQUt-VKn9pFj/ADqHKsN4j-Vhc45Sm',domain='.google.com.tw')\n",
    "cookie_jar.set('SAPISID','IdEEzQUt-VKn9pFj/ADqHKsN4j-Vhc45Sm',domain='.google.com')\n",
    "cookie_jar.set('OGPC','19011583-3:',domain='.google.com.tw')\n",
    "cookie_jar.set('NID','224=zio_dsfxQpUYJgo9hknjuXXqfhL0pODFHBuw0_rzzBx5D5o5wdO0uUhKbsfpf1Wx42uMoqYFjAoARNkUN5BrAWjpJnngD4DIgnnurlFlx8SONmWToMozREky3cDVV6SieLbA2Q80hV7RmcE9KrQteBtxZPlD7bUvxySaoMohg-IyCMzE3SoFpUw3R5-xI9JtSXxpbVrKBkRE2gmqD2AKOAtGLOe81V_hE6SqEAxaSqHxjXqUrwF1Ar9Ti_tPaYs0',domain='.google.com.tw')\n",
    "cookie_jar.set('NID','511=A11RKVnKamd0qKgLpnT-VHGT-E0nB7mKa1G2hgTqHmpzo77v8tCYeEpDe_W3C9H2Opxor3Dl-rQ9W8P2CrcMAzd4WO9A6s_8p_eqnlK7JSC55mUWKjPSGpEsVayNUiAJMJNw3FogBn19iDUEZ_dg9FLYwxHjwhoU72nQnKsnzMfXq4hdDupyy0mXRxnF80o2vMCBRVo_bBk7g3ZzBuHFlA6647TIrDKoTgwGBSP5vb7Y6H1uUwGszPhMvI_BVL0lTA',domain='.google.com')\n",
    "cookie_jar.set('IDE','AHWqTUmc7ZHV9Lun36KY-13hLD1d33b7Md_EBDU-sso1sl3-962gm3mPbPHhC37e',domain='.doubleclick.net')\n",
    "cookie_jar.set('HSID','AoDAtd7j-o8QYDET6',domain='.google.com.tw')\n",
    "cookie_jar.set('HSID','Aal3ZAUQHUwLS-QcW',domain='.google.com')\n",
    "cookie_jar.set('CloudFront-Signature','v1noJBU9393V9YBFVNZe2GcxhUUK9HnGeUmoXcdZSZQF41P8cEyvW7-65Zu73kZjXf0FHkjnUqncOolrXJdQYWxu4~qIijZlpjArc1q-kb84CdKHKEZl~P8V34QAnMuk~vi93dPF7Hbvr6ZqaaA1AYbhyazHmXkIScg2Jsts5CKKSovn5Xp3cZdy3lXSHJVlvg~r8C7~Hu8bz~gWNn7y5MhNYvfS5MqGu5ec6eQ6D37RVumzwND~kjchRAd8sI6fuGIIUtDAwQQkDrwR6E~X-FCSlNi-YXgtdegjP3mrpuUh9hdQNktKJkHoRqQWu88tI5~mJM3M8~YVtON46PrAkg__',domain='.tibame.com')\n",
    "cookie_jar.set('CloudFront-Key-Pair-Id','K2BLBCIJFCIPHV',domain='.tibame.com')\n",
    "cookie_jar.set('CloudFront-Expires','1632573720',domain='.tibame.com')\n",
    "cookie_jar.set('APISID','Fk-CiVZ0MlmiiFD3/ATOMBVVQ5YX6MmQuh',domain='.google.com.tw')\n",
    "cookie_jar.set('APISID','Fk-CiVZ0MlmiiFD3/ATOMBVVQ5YX6MmQuh',domain='.google.com')\n",
    "cookie_jar.set('ANID','AHWqTUlkWynMoqvZs0vEmcU8rz209pjeLY81KT-3PS_-KMRK8oUi8A5xORG1GpJy',domain='.google.com.tw')\n",
    "cookie_jar.set('1P_JAR','2021-09-24-13',domain='.google.com.tw')\n",
    "\n",
    "\n",
    "headers = {'User-Agent':'Mozilla/5.0 (Windows NT 10.0; Win64; x64) AppleWebKit/537.36 (KHTML, like Gecko) Chrome/93.0.4577.82 Safari/537.36 Edg/93.0.961.52'}\n",
    "\n",
    "url = \"https://www.tibame.com/course/2238/mission/34450\"\n",
    "#https://cdn-sign.tibame.com/course/2238/videos/634e7b6c-304f-457e-ba58-9dd57c5b872a_2-2-A%E6%9C%83%E8%AD%B0%E8%8B%B1%E8%AA%9E-%E5%88%87%E5%85%A5%E6%AD%A3%E9%A1%8C.mp4?isTrial=true"
   ]
  },
  {
   "cell_type": "code",
   "execution_count": 15,
   "id": "b22aa2cc",
   "metadata": {
    "scrolled": false
   },
   "outputs": [
    {
     "ename": "HTTPError",
     "evalue": "HTTP Error 403: Forbidden",
     "output_type": "error",
     "traceback": [
      "\u001b[1;31m---------------------------------------------------------------------------\u001b[0m",
      "\u001b[1;31mHTTPError\u001b[0m                                 Traceback (most recent call last)",
      "\u001b[1;32m<ipython-input-15-5afd5d44d763>\u001b[0m in \u001b[0;36m<module>\u001b[1;34m\u001b[0m\n\u001b[0;32m      7\u001b[0m \u001b[0murlMV\u001b[0m \u001b[1;33m=\u001b[0m \u001b[1;34m'https://cdn-sign.tibame.com/course/2238/videos/634e7b6c-304f-457e-ba58-9dd57c5b872a_2-2-A%E6%9C%83%E8%AD%B0%E8%8B%B1%E8%AA%9E-%E5%88%87%E5%85%A5%E6%AD%A3%E9%A1%8C.mp4?isTrial=true'\u001b[0m\u001b[1;33m\u001b[0m\u001b[1;33m\u001b[0m\u001b[0m\n\u001b[0;32m      8\u001b[0m \u001b[1;33m\u001b[0m\u001b[0m\n\u001b[1;32m----> 9\u001b[1;33m \u001b[0murllib\u001b[0m\u001b[1;33m.\u001b[0m\u001b[0mrequest\u001b[0m\u001b[1;33m.\u001b[0m\u001b[0murlretrieve\u001b[0m\u001b[1;33m(\u001b[0m\u001b[0murlMV\u001b[0m\u001b[1;33m,\u001b[0m \u001b[1;34m'testFile01'\u001b[0m\u001b[1;33m)\u001b[0m\u001b[1;33m\u001b[0m\u001b[1;33m\u001b[0m\u001b[0m\n\u001b[0m",
      "\u001b[1;32m~\\anaconda3\\lib\\urllib\\request.py\u001b[0m in \u001b[0;36murlretrieve\u001b[1;34m(url, filename, reporthook, data)\u001b[0m\n\u001b[0;32m    245\u001b[0m     \u001b[0murl_type\u001b[0m\u001b[1;33m,\u001b[0m \u001b[0mpath\u001b[0m \u001b[1;33m=\u001b[0m \u001b[0m_splittype\u001b[0m\u001b[1;33m(\u001b[0m\u001b[0murl\u001b[0m\u001b[1;33m)\u001b[0m\u001b[1;33m\u001b[0m\u001b[1;33m\u001b[0m\u001b[0m\n\u001b[0;32m    246\u001b[0m \u001b[1;33m\u001b[0m\u001b[0m\n\u001b[1;32m--> 247\u001b[1;33m     \u001b[1;32mwith\u001b[0m \u001b[0mcontextlib\u001b[0m\u001b[1;33m.\u001b[0m\u001b[0mclosing\u001b[0m\u001b[1;33m(\u001b[0m\u001b[0murlopen\u001b[0m\u001b[1;33m(\u001b[0m\u001b[0murl\u001b[0m\u001b[1;33m,\u001b[0m \u001b[0mdata\u001b[0m\u001b[1;33m)\u001b[0m\u001b[1;33m)\u001b[0m \u001b[1;32mas\u001b[0m \u001b[0mfp\u001b[0m\u001b[1;33m:\u001b[0m\u001b[1;33m\u001b[0m\u001b[1;33m\u001b[0m\u001b[0m\n\u001b[0m\u001b[0;32m    248\u001b[0m         \u001b[0mheaders\u001b[0m \u001b[1;33m=\u001b[0m \u001b[0mfp\u001b[0m\u001b[1;33m.\u001b[0m\u001b[0minfo\u001b[0m\u001b[1;33m(\u001b[0m\u001b[1;33m)\u001b[0m\u001b[1;33m\u001b[0m\u001b[1;33m\u001b[0m\u001b[0m\n\u001b[0;32m    249\u001b[0m \u001b[1;33m\u001b[0m\u001b[0m\n",
      "\u001b[1;32m~\\anaconda3\\lib\\urllib\\request.py\u001b[0m in \u001b[0;36murlopen\u001b[1;34m(url, data, timeout, cafile, capath, cadefault, context)\u001b[0m\n\u001b[0;32m    220\u001b[0m     \u001b[1;32melse\u001b[0m\u001b[1;33m:\u001b[0m\u001b[1;33m\u001b[0m\u001b[1;33m\u001b[0m\u001b[0m\n\u001b[0;32m    221\u001b[0m         \u001b[0mopener\u001b[0m \u001b[1;33m=\u001b[0m \u001b[0m_opener\u001b[0m\u001b[1;33m\u001b[0m\u001b[1;33m\u001b[0m\u001b[0m\n\u001b[1;32m--> 222\u001b[1;33m     \u001b[1;32mreturn\u001b[0m \u001b[0mopener\u001b[0m\u001b[1;33m.\u001b[0m\u001b[0mopen\u001b[0m\u001b[1;33m(\u001b[0m\u001b[0murl\u001b[0m\u001b[1;33m,\u001b[0m \u001b[0mdata\u001b[0m\u001b[1;33m,\u001b[0m \u001b[0mtimeout\u001b[0m\u001b[1;33m)\u001b[0m\u001b[1;33m\u001b[0m\u001b[1;33m\u001b[0m\u001b[0m\n\u001b[0m\u001b[0;32m    223\u001b[0m \u001b[1;33m\u001b[0m\u001b[0m\n\u001b[0;32m    224\u001b[0m \u001b[1;32mdef\u001b[0m \u001b[0minstall_opener\u001b[0m\u001b[1;33m(\u001b[0m\u001b[0mopener\u001b[0m\u001b[1;33m)\u001b[0m\u001b[1;33m:\u001b[0m\u001b[1;33m\u001b[0m\u001b[1;33m\u001b[0m\u001b[0m\n",
      "\u001b[1;32m~\\anaconda3\\lib\\urllib\\request.py\u001b[0m in \u001b[0;36mopen\u001b[1;34m(self, fullurl, data, timeout)\u001b[0m\n\u001b[0;32m    529\u001b[0m         \u001b[1;32mfor\u001b[0m \u001b[0mprocessor\u001b[0m \u001b[1;32min\u001b[0m \u001b[0mself\u001b[0m\u001b[1;33m.\u001b[0m\u001b[0mprocess_response\u001b[0m\u001b[1;33m.\u001b[0m\u001b[0mget\u001b[0m\u001b[1;33m(\u001b[0m\u001b[0mprotocol\u001b[0m\u001b[1;33m,\u001b[0m \u001b[1;33m[\u001b[0m\u001b[1;33m]\u001b[0m\u001b[1;33m)\u001b[0m\u001b[1;33m:\u001b[0m\u001b[1;33m\u001b[0m\u001b[1;33m\u001b[0m\u001b[0m\n\u001b[0;32m    530\u001b[0m             \u001b[0mmeth\u001b[0m \u001b[1;33m=\u001b[0m \u001b[0mgetattr\u001b[0m\u001b[1;33m(\u001b[0m\u001b[0mprocessor\u001b[0m\u001b[1;33m,\u001b[0m \u001b[0mmeth_name\u001b[0m\u001b[1;33m)\u001b[0m\u001b[1;33m\u001b[0m\u001b[1;33m\u001b[0m\u001b[0m\n\u001b[1;32m--> 531\u001b[1;33m             \u001b[0mresponse\u001b[0m \u001b[1;33m=\u001b[0m \u001b[0mmeth\u001b[0m\u001b[1;33m(\u001b[0m\u001b[0mreq\u001b[0m\u001b[1;33m,\u001b[0m \u001b[0mresponse\u001b[0m\u001b[1;33m)\u001b[0m\u001b[1;33m\u001b[0m\u001b[1;33m\u001b[0m\u001b[0m\n\u001b[0m\u001b[0;32m    532\u001b[0m \u001b[1;33m\u001b[0m\u001b[0m\n\u001b[0;32m    533\u001b[0m         \u001b[1;32mreturn\u001b[0m \u001b[0mresponse\u001b[0m\u001b[1;33m\u001b[0m\u001b[1;33m\u001b[0m\u001b[0m\n",
      "\u001b[1;32m~\\anaconda3\\lib\\urllib\\request.py\u001b[0m in \u001b[0;36mhttp_response\u001b[1;34m(self, request, response)\u001b[0m\n\u001b[0;32m    638\u001b[0m         \u001b[1;31m# request was successfully received, understood, and accepted.\u001b[0m\u001b[1;33m\u001b[0m\u001b[1;33m\u001b[0m\u001b[1;33m\u001b[0m\u001b[0m\n\u001b[0;32m    639\u001b[0m         \u001b[1;32mif\u001b[0m \u001b[1;32mnot\u001b[0m \u001b[1;33m(\u001b[0m\u001b[1;36m200\u001b[0m \u001b[1;33m<=\u001b[0m \u001b[0mcode\u001b[0m \u001b[1;33m<\u001b[0m \u001b[1;36m300\u001b[0m\u001b[1;33m)\u001b[0m\u001b[1;33m:\u001b[0m\u001b[1;33m\u001b[0m\u001b[1;33m\u001b[0m\u001b[0m\n\u001b[1;32m--> 640\u001b[1;33m             response = self.parent.error(\n\u001b[0m\u001b[0;32m    641\u001b[0m                 'http', request, response, code, msg, hdrs)\n\u001b[0;32m    642\u001b[0m \u001b[1;33m\u001b[0m\u001b[0m\n",
      "\u001b[1;32m~\\anaconda3\\lib\\urllib\\request.py\u001b[0m in \u001b[0;36merror\u001b[1;34m(self, proto, *args)\u001b[0m\n\u001b[0;32m    567\u001b[0m         \u001b[1;32mif\u001b[0m \u001b[0mhttp_err\u001b[0m\u001b[1;33m:\u001b[0m\u001b[1;33m\u001b[0m\u001b[1;33m\u001b[0m\u001b[0m\n\u001b[0;32m    568\u001b[0m             \u001b[0margs\u001b[0m \u001b[1;33m=\u001b[0m \u001b[1;33m(\u001b[0m\u001b[0mdict\u001b[0m\u001b[1;33m,\u001b[0m \u001b[1;34m'default'\u001b[0m\u001b[1;33m,\u001b[0m \u001b[1;34m'http_error_default'\u001b[0m\u001b[1;33m)\u001b[0m \u001b[1;33m+\u001b[0m \u001b[0morig_args\u001b[0m\u001b[1;33m\u001b[0m\u001b[1;33m\u001b[0m\u001b[0m\n\u001b[1;32m--> 569\u001b[1;33m             \u001b[1;32mreturn\u001b[0m \u001b[0mself\u001b[0m\u001b[1;33m.\u001b[0m\u001b[0m_call_chain\u001b[0m\u001b[1;33m(\u001b[0m\u001b[1;33m*\u001b[0m\u001b[0margs\u001b[0m\u001b[1;33m)\u001b[0m\u001b[1;33m\u001b[0m\u001b[1;33m\u001b[0m\u001b[0m\n\u001b[0m\u001b[0;32m    570\u001b[0m \u001b[1;33m\u001b[0m\u001b[0m\n\u001b[0;32m    571\u001b[0m \u001b[1;31m# XXX probably also want an abstract factory that knows when it makes\u001b[0m\u001b[1;33m\u001b[0m\u001b[1;33m\u001b[0m\u001b[1;33m\u001b[0m\u001b[0m\n",
      "\u001b[1;32m~\\anaconda3\\lib\\urllib\\request.py\u001b[0m in \u001b[0;36m_call_chain\u001b[1;34m(self, chain, kind, meth_name, *args)\u001b[0m\n\u001b[0;32m    500\u001b[0m         \u001b[1;32mfor\u001b[0m \u001b[0mhandler\u001b[0m \u001b[1;32min\u001b[0m \u001b[0mhandlers\u001b[0m\u001b[1;33m:\u001b[0m\u001b[1;33m\u001b[0m\u001b[1;33m\u001b[0m\u001b[0m\n\u001b[0;32m    501\u001b[0m             \u001b[0mfunc\u001b[0m \u001b[1;33m=\u001b[0m \u001b[0mgetattr\u001b[0m\u001b[1;33m(\u001b[0m\u001b[0mhandler\u001b[0m\u001b[1;33m,\u001b[0m \u001b[0mmeth_name\u001b[0m\u001b[1;33m)\u001b[0m\u001b[1;33m\u001b[0m\u001b[1;33m\u001b[0m\u001b[0m\n\u001b[1;32m--> 502\u001b[1;33m             \u001b[0mresult\u001b[0m \u001b[1;33m=\u001b[0m \u001b[0mfunc\u001b[0m\u001b[1;33m(\u001b[0m\u001b[1;33m*\u001b[0m\u001b[0margs\u001b[0m\u001b[1;33m)\u001b[0m\u001b[1;33m\u001b[0m\u001b[1;33m\u001b[0m\u001b[0m\n\u001b[0m\u001b[0;32m    503\u001b[0m             \u001b[1;32mif\u001b[0m \u001b[0mresult\u001b[0m \u001b[1;32mis\u001b[0m \u001b[1;32mnot\u001b[0m \u001b[1;32mNone\u001b[0m\u001b[1;33m:\u001b[0m\u001b[1;33m\u001b[0m\u001b[1;33m\u001b[0m\u001b[0m\n\u001b[0;32m    504\u001b[0m                 \u001b[1;32mreturn\u001b[0m \u001b[0mresult\u001b[0m\u001b[1;33m\u001b[0m\u001b[1;33m\u001b[0m\u001b[0m\n",
      "\u001b[1;32m~\\anaconda3\\lib\\urllib\\request.py\u001b[0m in \u001b[0;36mhttp_error_default\u001b[1;34m(self, req, fp, code, msg, hdrs)\u001b[0m\n\u001b[0;32m    647\u001b[0m \u001b[1;32mclass\u001b[0m \u001b[0mHTTPDefaultErrorHandler\u001b[0m\u001b[1;33m(\u001b[0m\u001b[0mBaseHandler\u001b[0m\u001b[1;33m)\u001b[0m\u001b[1;33m:\u001b[0m\u001b[1;33m\u001b[0m\u001b[1;33m\u001b[0m\u001b[0m\n\u001b[0;32m    648\u001b[0m     \u001b[1;32mdef\u001b[0m \u001b[0mhttp_error_default\u001b[0m\u001b[1;33m(\u001b[0m\u001b[0mself\u001b[0m\u001b[1;33m,\u001b[0m \u001b[0mreq\u001b[0m\u001b[1;33m,\u001b[0m \u001b[0mfp\u001b[0m\u001b[1;33m,\u001b[0m \u001b[0mcode\u001b[0m\u001b[1;33m,\u001b[0m \u001b[0mmsg\u001b[0m\u001b[1;33m,\u001b[0m \u001b[0mhdrs\u001b[0m\u001b[1;33m)\u001b[0m\u001b[1;33m:\u001b[0m\u001b[1;33m\u001b[0m\u001b[1;33m\u001b[0m\u001b[0m\n\u001b[1;32m--> 649\u001b[1;33m         \u001b[1;32mraise\u001b[0m \u001b[0mHTTPError\u001b[0m\u001b[1;33m(\u001b[0m\u001b[0mreq\u001b[0m\u001b[1;33m.\u001b[0m\u001b[0mfull_url\u001b[0m\u001b[1;33m,\u001b[0m \u001b[0mcode\u001b[0m\u001b[1;33m,\u001b[0m \u001b[0mmsg\u001b[0m\u001b[1;33m,\u001b[0m \u001b[0mhdrs\u001b[0m\u001b[1;33m,\u001b[0m \u001b[0mfp\u001b[0m\u001b[1;33m)\u001b[0m\u001b[1;33m\u001b[0m\u001b[1;33m\u001b[0m\u001b[0m\n\u001b[0m\u001b[0;32m    650\u001b[0m \u001b[1;33m\u001b[0m\u001b[0m\n\u001b[0;32m    651\u001b[0m \u001b[1;32mclass\u001b[0m \u001b[0mHTTPRedirectHandler\u001b[0m\u001b[1;33m(\u001b[0m\u001b[0mBaseHandler\u001b[0m\u001b[1;33m)\u001b[0m\u001b[1;33m:\u001b[0m\u001b[1;33m\u001b[0m\u001b[1;33m\u001b[0m\u001b[0m\n",
      "\u001b[1;31mHTTPError\u001b[0m: HTTP Error 403: Forbidden"
     ]
    }
   ],
   "source": [
    "htmText = requests.get(url,cookies=cookie_jar,headers=headers).content.decode('utf-8')      \n",
    "\n",
    "#使用 htmText 建立一個 HTML 的實例，本案例為 error 403\n",
    "html = HTML(html=htmText)\n",
    "\n",
    "#test01\n",
    "urlMV = 'https://cdn-sign.tibame.com/course/2238/videos/634e7b6c-304f-457e-ba58-9dd57c5b872a_2-2-A%E6%9C%83%E8%AD%B0%E8%8B%B1%E8%AA%9E-%E5%88%87%E5%85%A5%E6%AD%A3%E9%A1%8C.mp4?isTrial=true'\n",
    "\n",
    "urllib.request.urlretrieve(urlMV, 'testFile01')\n"
   ]
  },
  {
   "cell_type": "code",
   "execution_count": null,
   "id": "a9446671",
   "metadata": {},
   "outputs": [],
   "source": []
  },
  {
   "cell_type": "code",
   "execution_count": null,
   "id": "ad9a76a2",
   "metadata": {},
   "outputs": [],
   "source": [
    "#呼叫 html.find 搜尋有 source 的 tag\n",
    "FindURL = html.find('video',first=False)\n",
    "\n",
    "#找到之後，取得第一個 source tag\n",
    "Obj = FindURL[0]\n",
    "#取得 src 的屬性，這個值就是影片的網址\n",
    "urlMV = Obj.attrs['src']\n",
    "\n",
    "#呼叫 html.find 搜尋 font 的 tag\n",
    "TitleList = html.find('font',first=False)\n",
    "\n",
    "#取得第三個 font tag 的 text，取得的文字中，第一行就是影片的名稱\n",
    "titleMV = TitleList[2].text.splitlines()[0]\n",
    "\n",
    "#使用影片名稱，當做存檔的檔名\n",
    "FileSavePath = titleMV + '.mp4'\n",
    "\n",
    "#呼叫 urlretriveve 下載檔案\n",
    "\n",
    "urllib.request.urlretrieve(urlMV, FileSavePath) "
   ]
  }
 ],
 "metadata": {
  "kernelspec": {
   "display_name": "Python 3",
   "language": "python",
   "name": "python3"
  },
  "language_info": {
   "codemirror_mode": {
    "name": "ipython",
    "version": 3
   },
   "file_extension": ".py",
   "mimetype": "text/x-python",
   "name": "python",
   "nbconvert_exporter": "python",
   "pygments_lexer": "ipython3",
   "version": "3.8.8"
  }
 },
 "nbformat": 4,
 "nbformat_minor": 5
}
